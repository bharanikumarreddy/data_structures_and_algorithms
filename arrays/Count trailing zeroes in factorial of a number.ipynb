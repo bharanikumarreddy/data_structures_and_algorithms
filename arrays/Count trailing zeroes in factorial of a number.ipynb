{
 "cells": [
  {
   "cell_type": "markdown",
   "metadata": {},
   "source": [
    "First method"
   ]
  },
  {
   "cell_type": "code",
   "execution_count": 13,
   "metadata": {},
   "outputs": [
    {
     "name": "stdout",
     "output_type": "stream",
     "text": [
      "1\n",
      "5\n",
      "120\n",
      "021\n",
      "0\n",
      "2\n",
      "1\n",
      "1\n",
      "1\n"
     ]
    }
   ],
   "source": [
    "class Solution:\n",
    "    def trailingZeroes(self, N):\n",
    "        a=1\n",
    "        for i in range(1,N+1):\n",
    "            c=a*i\n",
    "            a=c\n",
    "        c1=str(c)\n",
    "        c1=c1[::-1]\n",
    "        count=0\n",
    "        for i in c1:\n",
    "            if i=='0':\n",
    "                count=count+1\n",
    "        return count   \n",
    "    \n",
    "\n",
    "\n",
    "if __name__ == '__main__': \n",
    "    t = int(input())\n",
    "    for _ in range(t):\n",
    "        N = int(input()) \n",
    "        ob = Solution()\n",
    "        ans = ob.trailingZeroes(N)\n",
    "        print(ans)\n"
   ]
  },
  {
   "cell_type": "raw",
   "metadata": {},
   "source": [
    "SECOND METHOD"
   ]
  },
  {
   "cell_type": "code",
   "execution_count": 14,
   "metadata": {},
   "outputs": [
    {
     "name": "stdout",
     "output_type": "stream",
     "text": [
      "1\n",
      "5\n",
      "1\n"
     ]
    }
   ],
   "source": [
    "class Solution:\n",
    "    def trailingZeroes(self, N):\n",
    "        if(N < 0):\n",
    "            return -1\n",
    "        count = 0\n",
    "        while(N >= 5):\n",
    "            N //= 5\n",
    "            count += N\n",
    " \n",
    "        return count\n",
    " \n",
    "\n",
    "\n",
    "if __name__ == '__main__': \n",
    "    t = int(input())\n",
    "    for _ in range(t):\n",
    "        N = int(input()) \n",
    "        ob = Solution()\n",
    "        ans = ob.trailingZeroes(N)\n",
    "        print(ans)\n"
   ]
  },
  {
   "cell_type": "markdown",
   "metadata": {},
   "source": [
    "Approach:\n",
    "1)A simple method is to first calculate factorial of n, then count trailing 0s in the result (We can count trailing 0s by repeatedly dividing the factorial by 10 till the remainder is 0).\n",
    " \n",
    "2)The above method can cause overflow for slightly bigger numbers as the factorial of a number is a big number (See factorial of 20 given in above examples). The idea is to consider prime factors of a factorial n. A trailing zero is always produced by prime factors 2 and 5. If we can count the number of 5s and 2s, our task is done. Consider the following examples.\n",
    "n = 5: There is one 5 and 3 2s in prime factors of 5! (2 * 2 * 2 * 3 * 5). So a count of trailing 0s is 1.\n",
    "n = 11: There are two 5s and eight 2s in prime factors of 11! (2 8 * 34 * 52 * 7). So the count of trailing 0s is 2.\n",
    " \n",
    "3)We can easily observe that the number of 2s in prime factors is always more than or equal to the number of 5s. So if we count 5s in prime factors, we are done. How to count the total number of 5s in prime factors of n!? A simple way is to calculate floor(n/5). For example, 7! has one 5, 10! has two 5s. It is not done yet, there is one more thing to consider. Numbers like 25, 125, etc have more than one 5. For example, if we consider 28! we get one extra 5 and the number of 0s becomes 6. Handling this is simple, first, divide n by 5 and remove all single 5s, then divide by 25 to remove extra 5s, and so on. Following is the summarized formula for counting trailing 0s.\n",
    "SOURCE(geeksforgeeks)"
   ]
  }
 ],
 "metadata": {
  "kernelspec": {
   "display_name": "Python 3",
   "language": "python",
   "name": "python3"
  },
  "language_info": {
   "codemirror_mode": {
    "name": "ipython",
    "version": 3
   },
   "file_extension": ".py",
   "mimetype": "text/x-python",
   "name": "python",
   "nbconvert_exporter": "python",
   "pygments_lexer": "ipython3",
   "version": "3.8.5"
  }
 },
 "nbformat": 4,
 "nbformat_minor": 4
}
