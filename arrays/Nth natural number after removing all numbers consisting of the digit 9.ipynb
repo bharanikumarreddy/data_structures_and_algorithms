{
 "cells": [
  {
   "cell_type": "markdown",
   "metadata": {},
   "source": [
    "It is known that, digits of base 2 numbers varies from 0 to 1. Similarly, digits of base 10 numbers varies from 0 to 9.\n",
    "\n",
    "Therefore, the digits of base 9 numbers will vary from 0 to 8.\n",
    "\n",
    "It can be observed that Nth number in base 9 is equal to Nth number after skipping numbers containing digit 9.\n",
    "\n",
    "So the task is reduced to find the base 9 equivalent of the number N."
   ]
  },
  {
   "cell_type": "markdown",
   "metadata": {},
   "source": [
    "Initialize two variables, say res = 0 and p = 1, to store the number in base 9 and to store the position of a digit.\n",
    "\n",
    "Iterate while N is greater than 0 and perform the following operations:\n",
    "\n",
    "Update res as res = res + p*(N%9).\n",
    "\n",
    "Divide N by 9 and multiply p by 10.\n",
    "\n",
    "After completing the above steps, print the value of res."
   ]
  },
  {
   "cell_type": "code",
   "execution_count": 17,
   "metadata": {},
   "outputs": [
    {
     "name": "stdout",
     "output_type": "stream",
     "text": [
      "1\n",
      "8\n",
      "8\n"
     ]
    }
   ],
   "source": [
    "class Solution:\n",
    "    def findNth(self,N):\n",
    "        res = 0\n",
    "        p = 1\n",
    "        while (N > 0):\n",
    "            res += (p * (N % 9))\n",
    "            N = N // 9\n",
    "            p = p * 10\n",
    "        return res\n",
    "\n",
    "#{ \n",
    "#  Driver Code Starts\n",
    "#Initial Template for Python 3\n",
    "\n",
    "t=int(input())\n",
    "for i in range(0,t):\n",
    "    n=int(input())\n",
    "    obj=Solution()\n",
    "    s=obj.findNth(n)\n",
    "    print(s)\n",
    "# } Driver Code Ends"
   ]
  },
  {
   "cell_type": "markdown",
   "metadata": {},
   "source": [
    "we followed the same process we did for base 9, we converted numbers to base 8 i.e removing 8 from number system same thing applies for all bases(1,2,3,4,5......)"
   ]
  },
  {
   "cell_type": "code",
   "execution_count": 20,
   "metadata": {},
   "outputs": [
    {
     "name": "stdout",
     "output_type": "stream",
     "text": [
      "1\n",
      "11\n",
      "12\n"
     ]
    }
   ],
   "source": [
    "class Solution:\n",
    "    def findNth(self,N):\n",
    "        res = 0\n",
    "        p = 1\n",
    "        while (N > 0):\n",
    "            res += (p * (N % 8))\n",
    "            N = N // 8\n",
    "            p = p * 9\n",
    "        return res\n",
    "\n",
    "#{ \n",
    "#  Driver Code Starts\n",
    "#Initial Template for Python 3\n",
    "\n",
    "t=int(input())\n",
    "for i in range(0,t):\n",
    "    n=int(input())\n",
    "    obj=Solution()\n",
    "    s=obj.findNth(n)\n",
    "    print(s)\n",
    "# } Driver Code Ends"
   ]
  }
 ],
 "metadata": {
  "kernelspec": {
   "display_name": "Python 3",
   "language": "python",
   "name": "python3"
  },
  "language_info": {
   "codemirror_mode": {
    "name": "ipython",
    "version": 3
   },
   "file_extension": ".py",
   "mimetype": "text/x-python",
   "name": "python",
   "nbconvert_exporter": "python",
   "pygments_lexer": "ipython3",
   "version": "3.8.5"
  }
 },
 "nbformat": 4,
 "nbformat_minor": 4
}
