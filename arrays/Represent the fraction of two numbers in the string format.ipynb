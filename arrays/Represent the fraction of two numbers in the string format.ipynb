{
 "cells": [
  {
   "cell_type": "markdown",
   "metadata": {},
   "source": [
    "Approach: The idea is to first calculate the integral quotient (absolute part before decimal point) and then calculate the fractional part. To check if the fractional part is repeating, insert the remainder (numerator % denominator) in a map with key as remainder and value as the index position at which this remainder occurs. If at any point of time, the remainder becomes zero, then there doesn’t exist a repeating fraction otherwise if the remainder is already found in the map, then there exists a repeating fraction."
   ]
  },
  {
   "cell_type": "code",
   "execution_count": 4,
   "metadata": {},
   "outputs": [
    {
     "name": "stdout",
     "output_type": "stream",
     "text": [
      "1\n",
      "1 3\n",
      "0.(3)\n"
     ]
    }
   ],
   "source": [
    "class Solution:\n",
    "    def fractionToDecimal(self, numerator, denominator):\n",
    "        if(numerator%denominator!=0):\n",
    "            res = int(numerator/denominator)\n",
    "            s = \"\"\n",
    "            s+=str(res)\n",
    "            s+=\".\"\n",
    "            rem = numerator%denominator\n",
    "            mp = {}\n",
    "            while(rem!=0 and rem not in mp):\n",
    "                mp[rem] = len(s)\n",
    "                rem = rem * 10\n",
    "                res_part = rem // denominator\n",
    "                s += str(res_part)\n",
    "                rem = rem % denominator\n",
    "            if (rem == 0):\n",
    "                return s\n",
    "            else:\n",
    "                return(s[:mp[rem]]+\"(\"+s[mp[rem]:]+\")\")\n",
    "        else:\n",
    "            return int(numerator/denominator)\n",
    "\n",
    "\n",
    "if __name__ == '__main__':\n",
    "    T=int(input())\n",
    "    for i in range(T):\n",
    "        numerator, denominator = input().split()\n",
    "        numerator = int(numerator); denominator = int(denominator)\n",
    "        ob = Solution()\n",
    "        ans = ob.fractionToDecimal(numerator, denominator)\n",
    "        print(ans)\n"
   ]
  }
 ],
 "metadata": {
  "kernelspec": {
   "display_name": "Python 3",
   "language": "python",
   "name": "python3"
  },
  "language_info": {
   "codemirror_mode": {
    "name": "ipython",
    "version": 3
   },
   "file_extension": ".py",
   "mimetype": "text/x-python",
   "name": "python",
   "nbconvert_exporter": "python",
   "pygments_lexer": "ipython3",
   "version": "3.8.5"
  }
 },
 "nbformat": 4,
 "nbformat_minor": 4
}
